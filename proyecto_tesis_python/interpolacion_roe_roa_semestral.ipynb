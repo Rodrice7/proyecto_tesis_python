{
 "cells": [
  {
   "cell_type": "code",
   "execution_count": 1,
   "metadata": {},
   "outputs": [],
   "source": [
    "import pandas as pd"
   ]
  },
  {
   "cell_type": "code",
   "execution_count": 3,
   "metadata": {},
   "outputs": [],
   "source": [
    "data = pd.read_excel(r\"C:\\Users\\jimen\\OneDrive\\Escritorio\\roe_roa_semestral.xlsx\") "
   ]
  },
  {
   "cell_type": "code",
   "execution_count": 7,
   "metadata": {},
   "outputs": [],
   "source": [
    "# Definición de la función para la interpolación\n",
    "def interpolate_to_quarters(df):\n",
    "    # Lista para almacenar los datos interpolados\n",
    "    interpolated_data = []\n",
    "\n",
    "    # Iterar sobre los pares de semestres consecutivos dentro del mismo año\n",
    "    for i in range(len(df) - 1):\n",
    "        current_semester = df.iloc[i]\n",
    "        next_semester = df.iloc[i + 1]\n",
    "\n",
    "        # Asegurarse de que ambos semestres son consecutivos y del mismo año\n",
    "        if current_semester['Semestre'] == 'I' and next_semester['Semestre'] == 'II' and current_semester['Año'] == next_semester['Año']:\n",
    "            # Calcular la diferencia entre los valores para obtener la tasa de cambio\n",
    "            roe_slope = (next_semester['ROE'] - current_semester['ROE']) / 2.0\n",
    "            roa_slope = (next_semester['ROA'] - current_semester['ROA']) / 2.0\n",
    "\n",
    "            # Interpolar los valores para los cuatro trimestres dentro del año\n",
    "            for quarter in range(1, 5):\n",
    "                año = current_semester['Año']\n",
    "                if quarter <= 2:  # Primer semestre\n",
    "                    interpolated_roe = current_semester['ROE'] + roe_slope * (quarter - 1)\n",
    "                    interpolated_roa = current_semester['ROA'] + roa_slope * (quarter - 1)\n",
    "                else:  # Segundo semestre\n",
    "                    interpolated_roe = next_semester['ROE'] + roe_slope * (quarter - 3)\n",
    "                    interpolated_roa = next_semester['ROA'] + roa_slope * (quarter - 3)\n",
    "                interpolated_data.append([año, quarter, interpolated_roe, interpolated_roa])\n",
    "\n",
    "    # Crear un DataFrame con los valores interpolados\n",
    "    interpolated_df = pd.DataFrame(interpolated_data, columns=['Año', 'Trimestre', 'ROE', 'ROA'])\n",
    "    return interpolated_df"
   ]
  },
  {
   "cell_type": "code",
   "execution_count": 8,
   "metadata": {},
   "outputs": [],
   "source": [
    "# Aplicar la función de interpolación al conjunto de datos\n",
    "quarterly_estimated_data = interpolate_to_quarters(data)"
   ]
  },
  {
   "cell_type": "code",
   "execution_count": 10,
   "metadata": {},
   "outputs": [
    {
     "name": "stdout",
     "output_type": "stream",
     "text": [
      "     Año  Trimestre      ROE      ROA\n",
      "0   2000          1  0.00450 -0.01380\n",
      "1   2000          2  0.01105 -0.01275\n",
      "2   2000          3  0.01760 -0.01170\n",
      "3   2000          4  0.02415 -0.01065\n",
      "4   2001          1  0.03190 -0.00120\n",
      "..   ...        ...      ...      ...\n",
      "79  2019          4  0.10660  0.03810\n",
      "80  2020          1  0.07290  0.00600\n",
      "81  2020          2  0.02435 -0.00650\n",
      "82  2020          3 -0.02420 -0.01900\n",
      "83  2020          4 -0.07275 -0.03150\n",
      "\n",
      "[84 rows x 4 columns]\n"
     ]
    }
   ],
   "source": [
    "# Mostrar los resultados para el primer año completo (2000)\n",
    "print(quarterly_estimated_data)"
   ]
  }
 ],
 "metadata": {
  "kernelspec": {
   "display_name": "mi_entorno",
   "language": "python",
   "name": "python3"
  },
  "language_info": {
   "codemirror_mode": {
    "name": "ipython",
    "version": 3
   },
   "file_extension": ".py",
   "mimetype": "text/x-python",
   "name": "python",
   "nbconvert_exporter": "python",
   "pygments_lexer": "ipython3",
   "version": "3.11.5"
  }
 },
 "nbformat": 4,
 "nbformat_minor": 2
}
